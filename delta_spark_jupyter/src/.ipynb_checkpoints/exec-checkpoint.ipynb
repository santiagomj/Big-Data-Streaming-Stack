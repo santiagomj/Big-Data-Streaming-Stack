{
 "cells": [
  {
   "cell_type": "code",
   "execution_count": null,
   "id": "b767d80f",
   "metadata": {
    "tags": []
   },
   "outputs": [
    {
     "name": "stdout",
     "output_type": "stream",
     "text": [
      "Producing message @ 2022-02-18 03:55:14.226061 | Message = {'user_id': 94, 'recipient_id': 100, 'message': 'djpMwZPilAnYwEplHcyTLvYyesBHTwjm'}\n",
      "Producing message @ 2022-02-18 03:55:20.234221 | Message = {'user_id': 63, 'recipient_id': 37, 'message': 'ibmrvBRbHjgVPeCeTDiLnrQZurAgBJVF'}\n",
      "Producing message @ 2022-02-18 03:55:28.242006 | Message = {'user_id': 9, 'recipient_id': 44, 'message': 'TolTyncOUoFQdbUmCSUcHCGHjtdfrLHl'}\n",
      "Producing message @ 2022-02-18 03:55:34.246182 | Message = {'user_id': 100, 'recipient_id': 21, 'message': 'rgYNyzNPcHplKqlvqipRGAwEkgBUHDpW'}\n",
      "Producing message @ 2022-02-18 03:55:38.251099 | Message = {'user_id': 80, 'recipient_id': 53, 'message': 'WiPPnJXrJNpvQFPaChmfmsGIgtYkAklf'}\n",
      "Producing message @ 2022-02-18 03:55:45.258171 | Message = {'user_id': 2, 'recipient_id': 7, 'message': 'XTPIogwqzQcSLUMkzZiMxOUZqXpVkDHY'}\n",
      "Producing message @ 2022-02-18 03:55:52.262151 | Message = {'user_id': 32, 'recipient_id': 97, 'message': 'GJtYbBrsFhpLnUvZbmqZhxCDkMpxjVTC'}\n",
      "Producing message @ 2022-02-18 03:55:55.266136 | Message = {'user_id': 87, 'recipient_id': 62, 'message': 'ScGeAzdRPvpxwGgQBRACCqojqqVaJudQ'}\n"
     ]
    }
   ],
   "source": [
    "!python3 producer.py"
   ]
  },
  {
   "cell_type": "code",
   "execution_count": 12,
   "id": "ae5118e7",
   "metadata": {},
   "outputs": [
    {
     "name": "stdout",
     "output_type": "stream",
     "text": [
      "Successfully producing record value - {'user_id': 1, 'recipient_id': 1, 'message': 'GG!'} to topic - messages\n"
     ]
    }
   ],
   "source": [
    "!python3 send_record.py --topic messages --schema-file create-user-request.avsc --record-value '{\"user_id\": 1, \"recipient_id\": 1, \"message\": \"GG!\"}'"
   ]
  },
  {
   "cell_type": "code",
   "execution_count": null,
   "id": "e67e3530",
   "metadata": {},
   "outputs": [
    {
     "name": "stdout",
     "output_type": "stream",
     "text": [
      "Successfully producing record values - count: 100 to topic - test\n",
      "Successfully producing record values - count: 100 to topic - test\n",
      "Successfully producing record values - count: 100 to topic - test\n",
      "Successfully producing record values - count: 100 to topic - test\n",
      "Successfully producing record values - count: 100 to topic - test\n"
     ]
    }
   ],
   "source": [
    "!cd producer/ && python3 crypto_producer.py"
   ]
  },
  {
   "cell_type": "code",
   "execution_count": null,
   "id": "04472494",
   "metadata": {},
   "outputs": [],
   "source": [
    "if response.status_code == 200:\n",
    "    data = json.loads(response.text)[\"data\"]\n",
    "else:\n",
    "    print(f\"Request Exception {status}\")"
   ]
  }
 ],
 "metadata": {
  "kernelspec": {
   "display_name": "Python 3 (ipykernel)",
   "language": "python",
   "name": "python3"
  },
  "language_info": {
   "codemirror_mode": {
    "name": "ipython",
    "version": 3
   },
   "file_extension": ".py",
   "mimetype": "text/x-python",
   "name": "python",
   "nbconvert_exporter": "python",
   "pygments_lexer": "ipython3",
   "version": "3.9.7"
  }
 },
 "nbformat": 4,
 "nbformat_minor": 5
}